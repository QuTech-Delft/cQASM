{
 "cells": [
  {
   "cell_type": "markdown",
   "id": "a07bf741-2af9-4c66-acec-4edd2a888352",
   "metadata": {
    "tags": []
   },
   "source": [
    "### Import packages"
   ]
  },
  {
   "cell_type": "code",
   "execution_count": null,
   "id": "843ce818-857a-4e83-b656-ebf81bed7e3b",
   "metadata": {},
   "outputs": [],
   "source": [
    "from sympy import Matrix, log, sqrt, det, cos, sin, exp\n",
    "from sympy.physics.quantum import TensorProduct, Dagger\n",
    "import itertools"
   ]
  },
  {
   "cell_type": "code",
   "execution_count": null,
   "id": "b3cd10a1-3588-432b-93c3-959f5891155e",
   "metadata": {},
   "outputs": [],
   "source": [
    "# Matrix Q transforms the standard basis into the magic basis.\n",
    "Q = Matrix([\n",
    "    [1, 0, 0, 1j],\n",
    "    [0, 1j, 1, 0],\n",
    "    [0, 1j, -1, 0],\n",
    "    [1, 0, 0, -1j]]\n",
    "    ) / sqrt(2)\n",
    "\n",
    "Q_dag = Dagger(Q)"
   ]
  },
  {
   "cell_type": "code",
   "execution_count": null,
   "id": "7788e0cb-07d0-4447-99a0-20bfb5160039",
   "metadata": {},
   "outputs": [],
   "source": [
    "# Pauli single-qubit operator matrices\n",
    "Id = Matrix([  # Keyword I is reserved for imaginary numbers.\n",
    "    [1, 0],\n",
    "    [0, 1]]\n",
    "    )\n",
    "X = Matrix([\n",
    "    [0, 1],\n",
    "    [1, 0]]\n",
    "    )\n",
    "Y = Matrix([\n",
    "    [0, -1j,],\n",
    "    [1j, 0]]\n",
    "    )\n",
    "Z = Matrix([\n",
    "    [1, 0],\n",
    "    [0, -1]]\n",
    "    )\n",
    "\n",
    "XX = TensorProduct(X, X)\n",
    "YY = TensorProduct(Y, Y)\n",
    "ZZ = TensorProduct(Z, Z)"
   ]
  },
  {
   "cell_type": "code",
   "execution_count": null,
   "id": "59343048-10ea-41cb-b899-54d0a449ce39",
   "metadata": {},
   "outputs": [],
   "source": [
    "def _U_2_Umb(U: Matrix) -> Matrix:\n",
    "    return Q_dag @ U @ Q\n",
    "\n",
    "\n",
    "def _Umb_2_U(Umb: Matrix) -> Matrix:\n",
    "    return Q @ Umb @ Q_dag\n",
    "\n",
    "\n",
    "def _vectors_2_matrix(vectors: list) -> Matrix:\n",
    "    M = vectors[0]\n",
    "    for vec in vectors[1:]:\n",
    "        M = M.row_join(vec)\n",
    "    return M"
   ]
  },
  {
   "cell_type": "code",
   "execution_count": null,
   "id": "d5f97d1a-9b5a-4f50-aa69-ff283242777d",
   "metadata": {},
   "outputs": [],
   "source": [
    "U_test = Matrix([\n",
    "    [1, 0, 0, 1],\n",
    "    [0, 1, 1, 0],\n",
    "    [0, 1, -1, 0],\n",
    "    [1, 0, 0, -1]]\n",
    "    ) / sqrt(2)"
   ]
  },
  {
   "cell_type": "code",
   "execution_count": null,
   "id": "4b0721e0-bf56-4cb4-b686-d00a46306137",
   "metadata": {},
   "outputs": [],
   "source": [
    "Umb = _U_2_Umb(U_test)\n",
    "\n",
    "M = Umb.T @ Umb\n",
    "\n",
    "eigs = [(eigval, eigvec[0]) for (eigval, _, eigvec) in\n",
    "    M.eigenvects()]\n",
    "\n",
    "for permutation in itertools.permutations(eigs):\n",
    "    eigvals = [eig[0] for eig in permutation]\n",
    "    eigvecs = [eig[1] for eig in permutation]\n",
    "    O2 = _vectors_2_matrix(eigvecs).T\n",
    "    if int(det(O2)) == 1:\n",
    "        break"
   ]
  },
  {
   "cell_type": "code",
   "execution_count": null,
   "id": "3f2c510f-0f90-46c2-b585-e9b2b295beda",
   "metadata": {},
   "outputs": [],
   "source": [
    "l1, l2, l3, l4 = eigvals\n",
    "alpha = 1j / 4 * log(l1 * l2 / (l3 * l4))\n",
    "beta = 1j / 4 * log(l2 * l4 / (l1 * l3))\n",
    "gamma = 1j / 4 * log(l1 * l4 / (l2 * l3))"
   ]
  },
  {
   "cell_type": "code",
   "execution_count": null,
   "id": "31b4481e-eee0-4de0-8da5-e3f48c816ec8",
   "metadata": {},
   "outputs": [],
   "source": [
    "A = Matrix([\n",
    "    [cos(alpha - beta) * exp(1j * gamma), 0, 0, 1j * sin(alpha - beta) * exp(1j * gamma)],\n",
    "    [0, cos(alpha + beta) * exp(-1j * gamma), 1j * sin(alpha + beta) * exp(-1j * gamma), 0],\n",
    "    [0, 1j * sin(alpha + beta) * exp(-1j * gamma), cos(alpha + beta) * exp(-1j * gamma), 0],\n",
    "    [1j * sin(alpha - beta) * exp(1j * gamma), 0, 0, cos(alpha - beta) * exp(1j * gamma)]]\n",
    "    )"
   ]
  }
 ],
 "metadata": {
  "kernelspec": {
   "display_name": "Python 3 (ipykernel)",
   "language": "python",
   "name": "python3"
  },
  "language_info": {
   "codemirror_mode": {
    "name": "ipython",
    "version": 3
   },
   "file_extension": ".py",
   "mimetype": "text/x-python",
   "name": "python",
   "nbconvert_exporter": "python",
   "pygments_lexer": "ipython3",
   "version": "3.9.16"
  }
 },
 "nbformat": 4,
 "nbformat_minor": 5
}
